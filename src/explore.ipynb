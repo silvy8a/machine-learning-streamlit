{
 "cells": [
  {
   "cell_type": "code",
   "execution_count": 11,
   "metadata": {},
   "outputs": [
    {
     "name": "stdout",
     "output_type": "stream",
     "text": [
      "Relative model path: models/tree_classifier_crit-gini_maxdepth-5_minleaf-1_minsplit-2_8.sav\n",
      "Absolute model path: /workspaces/machine-learning-streamlit/src/models/tree_classifier_crit-gini_maxdepth-5_minleaf-1_minsplit-2_8.sav\n",
      "Current working directory: /workspaces/machine-learning-streamlit/src\n",
      "Error: The file at models/tree_classifier_crit-gini_maxdepth-5_minleaf-1_minsplit-2_8.sav does not exist.\n"
     ]
    }
   ],
   "source": [
    "import os\n",
    "\n",
    "# Set the relative path to your model\n",
    "model_path = \"models/tree_classifier_crit-gini_maxdepth-5_minleaf-1_minsplit-2_8.pkl\"\n",
    "\n",
    "# Print the relative path\n",
    "print(f\"Relative model path: {model_path}\")\n",
    "\n",
    "# Get the absolute path\n",
    "absolute_model_path = os.path.abspath(model_path)\n",
    "print(f\"Absolute model path: {absolute_model_path}\")\n",
    "\n",
    "# Print the current working directory\n",
    "current_working_directory = os.getcwd()\n",
    "print(f\"Current working directory: {current_working_directory}\")\n",
    "\n",
    "# Check if the file exists at the relative path\n",
    "if not os.path.isfile(model_path):\n",
    "    print(f\"Error: The file at {model_path} does not exist.\")\n",
    "else:\n",
    "    try:\n",
    "        with open(model_path, \"rb\") as model_file:\n",
    "            # Your code to handle the model file\n",
    "            print(\"File opened successfully.\")\n",
    "    except FileNotFoundError:\n",
    "        print(f\"Error: The file at {model_path} was not found.\")\n",
    "    except PermissionError:\n",
    "        print(f\"Error: Permission denied when trying to open {model_path}.\")\n",
    "    except Exception as e:\n",
    "        print(f\"An unexpected error occurred: {e}\")"
   ]
  }
 ],
 "metadata": {
  "kernelspec": {
   "display_name": "Python 3",
   "language": "python",
   "name": "python3"
  },
  "language_info": {
   "codemirror_mode": {
    "name": "ipython",
    "version": 3
   },
   "file_extension": ".py",
   "mimetype": "text/x-python",
   "name": "python",
   "nbconvert_exporter": "python",
   "pygments_lexer": "ipython3",
   "version": "3.10.12"
  }
 },
 "nbformat": 4,
 "nbformat_minor": 2
}
